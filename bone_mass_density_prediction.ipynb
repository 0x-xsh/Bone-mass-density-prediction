{
  "cells": [
    {
      "cell_type": "code",
      "execution_count": null,
      "metadata": {
        "colab": {
          "base_uri": "https://localhost:8080/"
        },
        "id": "2sqXw2l_YRua",
        "outputId": "6f4501d9-0211-4f87-da75-2ba8a639c442"
      },
      "outputs": [
        {
          "name": "stdout",
          "output_type": "stream",
          "text": [
            "Looking in indexes: https://pypi.org/simple, https://us-python.pkg.dev/colab-wheels/public/simple/\n",
            "Collecting pyspark\n",
            "  Downloading pyspark-3.3.1.tar.gz (281.4 MB)\n",
            "\u001b[K     |████████████████████████████████| 281.4 MB 37 kB/s \n",
            "\u001b[?25hCollecting py4j==0.10.9.5\n",
            "  Downloading py4j-0.10.9.5-py2.py3-none-any.whl (199 kB)\n",
            "\u001b[K     |████████████████████████████████| 199 kB 40.7 MB/s \n",
            "\u001b[?25hBuilding wheels for collected packages: pyspark\n",
            "  Building wheel for pyspark (setup.py) ... \u001b[?25l\u001b[?25hdone\n",
            "  Created wheel for pyspark: filename=pyspark-3.3.1-py2.py3-none-any.whl size=281845512 sha256=27cd84ca83c67687f2ba534bc5726d7393ee1da6837fc2429cbaaa73f6212460\n",
            "  Stored in directory: /root/.cache/pip/wheels/43/dc/11/ec201cd671da62fa9c5cc77078235e40722170ceba231d7598\n",
            "Successfully built pyspark\n",
            "Installing collected packages: py4j, pyspark\n",
            "Successfully installed py4j-0.10.9.5 pyspark-3.3.1\n"
          ]
        }
      ],
      "source": [
        "# innstall java\n",
        "!apt-get install openjdk-8-jdk-headless -qq > /dev/null\n",
        "\n",
        "# install spark (change the version number if needed)\n",
        "!wget -q http://archive.apache.org/dist/spark/spark-3.1.1/spark-3.1.1-bin-hadoop3.2.tgz\n",
        "\n",
        "# unzip the spark file to the current folder\n",
        "!tar xf spark-3.1.1-bin-hadoop3.2.tgz\n",
        "\n",
        "# set your spark folder to your system path environment.\n",
        "import os\n",
        "os.environ[\"JAVA_HOME\"] = \"/usr/lib/jvm/java-8-openjdk-amd64\"\n",
        "os.environ[\"SPARK_HOME\"] = \"/content/spark-3.1.1-bin-hadoop3.2\"\n",
        "\n",
        "\n",
        "# install findspark using pip\n",
        "!pip install -q findspark\n",
        "\n",
        "# install pyspark\n",
        "!pip install pyspark"
      ]
    },
    {
      "cell_type": "code",
      "execution_count": null,
      "metadata": {
        "id": "oGVWeu7YYyNc"
      },
      "outputs": [],
      "source": [
        "import findspark\n",
        "findspark.init()"
      ]
    },
    {
      "cell_type": "code",
      "execution_count": null,
      "metadata": {
        "id": "_Z5IOAVUY41v"
      },
      "outputs": [],
      "source": [
        "from pyspark.sql import SparkSession\n",
        "from pyspark.ml.feature import VectorAssembler,VectorIndexer\n",
        "from pyspark.ml.feature import VectorAssembler\n",
        "from pyspark.ml.regression import LinearRegression\n",
        "from pyspark.ml.evaluation import RegressionEvaluator\n",
        "from pyspark.sql.functions import col,when\n",
        "\n",
        "session = SparkSession.builder.master(\"local\").appName(\"FirstApp\").getOrCreate()"
      ]
    },
    {
      "cell_type": "code",
      "execution_count": null,
      "metadata": {
        "colab": {
          "base_uri": "https://localhost:8080/"
        },
        "id": "iTZPLtwNZCOc",
        "outputId": "3da72965-6b1a-41a9-bb46-32d8c3c901d2"
      },
      "outputs": [
        {
          "name": "stdout",
          "output_type": "stream",
          "text": [
            "+-----+-----------+---+---------+---------+--------------+\n",
            "|   id|        age|sex|weight_kg|height_cm|    medication|\n",
            "+-----+-----------+---+---------+---------+--------------+\n",
            "|  469|57.05276775|  F|     64.0|    155.5|Anticonvulsant|\n",
            "| 8724| 75.7412248|  F|     78.0|    162.0| No-medication|\n",
            "| 6736|    70.7789|  M|     73.0|    170.5| No-medication|\n",
            "|24180|78.24717531|  F|     60.0|    148.0| No-medication|\n",
            "|17072| 54.1918766|  M|     55.0|    161.0| No-medication|\n",
            "+-----+-----------+---+---------+---------+--------------+\n",
            "only showing top 5 rows\n",
            "\n",
            "+-----+-----------+------------+----------+\n",
            "|   id|   fracture|waiting_time|       bmd|\n",
            "+-----+-----------+------------+----------+\n",
            "|  469|no fracture|          18|    0.8793|\n",
            "| 8724|no fracture|          56|0.79460001|\n",
            "| 6736|no fracture|          10|0.90670002|\n",
            "|24180|no fracture|          14|    0.7112|\n",
            "|17072|no fracture|          20|0.79089999|\n",
            "+-----+-----------+------------+----------+\n",
            "only showing top 5 rows\n",
            "\n"
          ]
        }
      ],
      "source": [
        "d1_df = session.read.csv('dataset1.csv', header=True, inferSchema=True)\n",
        "d2_df = session.read.csv('dataset2.csv', header=True, inferSchema=True)\n",
        "\n",
        "d1_df.show(5)\n",
        "d2_df.show(5)"
      ]
    },
    {
      "cell_type": "code",
      "execution_count": null,
      "metadata": {
        "colab": {
          "base_uri": "https://localhost:8080/"
        },
        "id": "qkTNXj2jZeGt",
        "outputId": "2d0e7f66-cc57-4037-b414-c9cc3e98cae0"
      },
      "outputs": [
        {
          "data": {
            "text/plain": [
              "169"
            ]
          },
          "execution_count": 136,
          "metadata": {},
          "output_type": "execute_result"
        }
      ],
      "source": [
        "\n",
        "\n",
        "d1_df_clean = d1_df.dropna('any')\n",
        "d2_df_clean = d2_df.dropna('any')\n",
        "d1_df_clean.count()\n",
        "d2_df_clean.count()"
      ]
    },
    {
      "cell_type": "code",
      "execution_count": null,
      "metadata": {
        "colab": {
          "base_uri": "https://localhost:8080/"
        },
        "id": "7gZg1_dVbPO3",
        "outputId": "77db6dc7-cbac-4b12-f3c6-4c8010ba3045"
      },
      "outputs": [
        {
          "name": "stdout",
          "output_type": "stream",
          "text": [
            "+-------+-------------------+\n",
            "|summary|                bmd|\n",
            "+-------+-------------------+\n",
            "|  count|                169|\n",
            "|   mean| 0.7831041407692312|\n",
            "| stddev|0.16652888156774745|\n",
            "|    min|         0.40759999|\n",
            "|    max|          1.3624001|\n",
            "+-------+-------------------+\n",
            "\n"
          ]
        }
      ],
      "source": [
        "d2_df_clean.describe('bmd').show()"
      ]
    },
    {
      "cell_type": "code",
      "execution_count": null,
      "metadata": {
        "colab": {
          "base_uri": "https://localhost:8080/"
        },
        "id": "bicpOVGObd08",
        "outputId": "443970e7-51c8-4cb1-c201-9bcd9d723b81"
      },
      "outputs": [
        {
          "name": "stdout",
          "output_type": "stream",
          "text": [
            "+---+\n",
            "|sex|\n",
            "+---+\n",
            "|  F|\n",
            "|  M|\n",
            "+---+\n",
            "\n",
            "+---------------+\n",
            "|     medication|\n",
            "+---------------+\n",
            "|Glucocorticoids|\n",
            "|  No-medication|\n",
            "| Anticonvulsant|\n",
            "+---------------+\n",
            "\n"
          ]
        }
      ],
      "source": [
        "d1_df_clean.select('sex').distinct().show(3)\n",
        "d1_df_clean.select('medication').distinct().show(3)\n"
      ]
    },
    {
      "cell_type": "code",
      "execution_count": null,
      "metadata": {
        "colab": {
          "base_uri": "https://localhost:8080/"
        },
        "id": "n8kGFkk0cZqV",
        "outputId": "21ece6f0-e3ff-4e93-cd16-b3945bfa2407"
      },
      "outputs": [
        {
          "name": "stdout",
          "output_type": "stream",
          "text": [
            "+----+-----------+---+---------+---------+----------+\n",
            "|  id|        age|sex|weight_kg|height_cm|medication|\n",
            "+----+-----------+---+---------+---------+----------+\n",
            "| 469|57.05276775|  0|     64.0|    155.5|         3|\n",
            "|8724| 75.7412248|  0|     78.0|    162.0|         2|\n",
            "|6736|    70.7789|  1|     73.0|    170.5|         2|\n",
            "+----+-----------+---+---------+---------+----------+\n",
            "only showing top 3 rows\n",
            "\n"
          ]
        }
      ],
      "source": [
        "d1_df_clean = d1_df_clean.withColumn('sex', when(col('sex') == 'F', 0)\n",
        "                                        .when(col('sex') == 'M', 1)\n",
        "                                        .otherwise(2)\n",
        ")\n",
        "\n",
        "d1_df_clean = d1_df_clean.withColumn('medication', when(col('medication') == 'Glucocorticoids', 1)\n",
        "                                        .when(col('medication') == 'No-medication', 2)\n",
        "                                        .when(col('medication') == 'Anticonvulsant', 3)\n",
        "                                        .otherwise(4)\n",
        ")\n",
        "\n",
        "d1_df_clean.show(3)\n",
        "\n"
      ]
    },
    {
      "cell_type": "code",
      "execution_count": null,
      "metadata": {
        "colab": {
          "base_uri": "https://localhost:8080/"
        },
        "id": "h7ANPpHwfKI_",
        "outputId": "1dbc07b7-e170-4487-cfc2-66b39e01b3a1"
      },
      "outputs": [
        {
          "name": "stdout",
          "output_type": "stream",
          "text": [
            "+----+-----------+---+---------+---------+----------+--------+\n",
            "|  id|        age|sex|weight_kg|height_cm|medication|height_m|\n",
            "+----+-----------+---+---------+---------+----------+--------+\n",
            "| 469|57.05276775|  0|     64.0|    155.5|         3|   1.555|\n",
            "|8724| 75.7412248|  0|     78.0|    162.0|         2|    1.62|\n",
            "|6736|    70.7789|  1|     73.0|    170.5|         2|   1.705|\n",
            "+----+-----------+---+---------+---------+----------+--------+\n",
            "only showing top 3 rows\n",
            "\n",
            "+----+-----------+---+---------+---------+----------+--------+------------------+\n",
            "|  id|        age|sex|weight_kg|height_cm|medication|height_m|               bmi|\n",
            "+----+-----------+---+---------+---------+----------+--------+------------------+\n",
            "| 469|57.05276775|  0|     64.0|    155.5|         3|   1.555|  26.4678818457212|\n",
            "|8724| 75.7412248|  0|     78.0|    162.0|         2|    1.62|29.721079103795148|\n",
            "|6736|    70.7789|  1|     73.0|    170.5|         2|   1.705|25.111583147719745|\n",
            "+----+-----------+---+---------+---------+----------+--------+------------------+\n",
            "only showing top 3 rows\n",
            "\n"
          ]
        }
      ],
      "source": [
        "\n",
        "\n",
        "d1_m = d1_df_clean.withColumn(\"height_m\", d1_df_clean.height_cm/100)\n",
        "\n",
        "d1_m.show(3)\n",
        "\n",
        "d1_m_bmi = d1_m.withColumn(\"bmi\", d1_m.weight_kg/(d1_m.height_m ** 2))\n",
        "\n",
        "d1_m_bmi.show(3)\n",
        "\n",
        "\n",
        "\n"
      ]
    },
    {
      "cell_type": "code",
      "execution_count": null,
      "metadata": {
        "colab": {
          "base_uri": "https://localhost:8080/"
        },
        "id": "JccJjS8EoWTT",
        "outputId": "49e569fe-cff3-4111-bf17-bf6ac37c83ec"
      },
      "outputs": [
        {
          "name": "stdout",
          "output_type": "stream",
          "text": [
            "+-----------+---+----------+------------------+----------+\n",
            "|        age|sex|medication|               bmi|       bmd|\n",
            "+-----------+---+----------+------------------+----------+\n",
            "|57.05276775|  0|         3|  26.4678818457212|    0.8793|\n",
            "| 75.7412248|  0|         2|29.721079103795148|0.79460001|\n",
            "|    70.7789|  1|         2|25.111583147719745|0.90670002|\n",
            "+-----------+---+----------+------------------+----------+\n",
            "only showing top 3 rows\n",
            "\n"
          ]
        }
      ],
      "source": [
        "\n",
        "\n",
        "new_dataset = d1_m_bmi.join(d2_df_clean, d2_df.id == d1_m_bmi.id).select('age', 'sex', 'medication', 'bmi', 'bmd')\n",
        "\n",
        "new_dataset.show(3)\n",
        "\n",
        "\n"
      ]
    },
    {
      "cell_type": "code",
      "execution_count": null,
      "metadata": {
        "colab": {
          "base_uri": "https://localhost:8080/"
        },
        "id": "00i_JH35mApd",
        "outputId": "8e859fa4-4d38-43db-ae71-10e17fac9a18"
      },
      "outputs": [
        {
          "name": "stdout",
          "output_type": "stream",
          "text": [
            "+--------------------+----------+\n",
            "|          Myfeatures|       bmd|\n",
            "+--------------------+----------+\n",
            "|[57.05276775,0.0,...|    0.8793|\n",
            "|[75.7412248,0.0,2...|0.79460001|\n",
            "|[70.7789,1.0,2.0,...|0.90670002|\n",
            "|[78.24717531,0.0,...|    0.7112|\n",
            "|[54.1918766,1.0,2...|0.79089999|\n",
            "+--------------------+----------+\n",
            "only showing top 5 rows\n",
            "\n"
          ]
        }
      ],
      "source": [
        "features = new_dataset.drop('bmd').columns\n",
        "\n",
        "assembler = VectorAssembler( inputCols=features, outputCol=\"Myfeatures\")\n",
        "\n",
        "final_dataset= assembler.transform(new_dataset).select('Myfeatures','bmd')\n",
        "\n",
        "final_dataset.show(5)"
      ]
    },
    {
      "cell_type": "code",
      "execution_count": null,
      "metadata": {
        "colab": {
          "base_uri": "https://localhost:8080/"
        },
        "id": "CuWlHDKzp6g2",
        "outputId": "7e864d90-1350-4867-af25-a6fc60bb8f33"
      },
      "outputs": [
        {
          "name": "stdout",
          "output_type": "stream",
          "text": [
            "+--------------------+----------+\n",
            "|          Myfeatures|       bmd|\n",
            "+--------------------+----------+\n",
            "|[35.81405763,1.0,...|    0.7895|\n",
            "|[36.64831103,1.0,...|0.85600001|\n",
            "|[37.46199496,1.0,...|0.68839997|\n",
            "|[40.23236742,1.0,...|     1.039|\n",
            "|[43.45071208,1.0,...| 1.0197999|\n",
            "+--------------------+----------+\n",
            "only showing top 5 rows\n",
            "\n",
            "+--------------------+----------+\n",
            "|          Myfeatures|       bmd|\n",
            "+--------------------+----------+\n",
            "|[39.25494707,1.0,...|    1.0502|\n",
            "|[41.35119985,1.0,...|    0.7076|\n",
            "|[41.41761507,1.0,...|    1.0003|\n",
            "|[42.81703317,0.0,...|0.88880002|\n",
            "|[44.23967859,1.0,...|    0.9824|\n",
            "+--------------------+----------+\n",
            "only showing top 5 rows\n",
            "\n"
          ]
        }
      ],
      "source": [
        "train_df,test_df = final_dataset.randomSplit([0.8, 0.2])\n",
        "train_df.show(5)\n",
        "test_df.show(5)"
      ]
    },
    {
      "cell_type": "code",
      "execution_count": null,
      "metadata": {
        "id": "q-L3EyA3qGzS"
      },
      "outputs": [],
      "source": [
        "lin_reg = LinearRegression(featuresCol = 'Myfeatures', labelCol='bmd',)\n",
        "linear_model = lin_reg.fit(train_df)"
      ]
    },
    {
      "cell_type": "code",
      "execution_count": null,
      "metadata": {
        "colab": {
          "base_uri": "https://localhost:8080/"
        },
        "id": "nMYHFc__qP5B",
        "outputId": "0043de47-7af4-4b8a-95cd-0a433ef2e303"
      },
      "outputs": [
        {
          "name": "stdout",
          "output_type": "stream",
          "text": [
            "Coefficients: [-0.0033586476165329833,0.0902557495784229,-0.002165919317263794,0.015665092992662853]\n",
            "Intercept: 0.5648785742676364\n"
          ]
        }
      ],
      "source": [
        "print(\"Coefficients: \" + str(linear_model.coefficients))\n",
        "print(\"Intercept: \" + str(linear_model.intercept))"
      ]
    },
    {
      "cell_type": "code",
      "execution_count": null,
      "metadata": {
        "colab": {
          "base_uri": "https://localhost:8080/"
        },
        "id": "Mzx4eb_jqUnA",
        "outputId": "6041b3cf-9655-4d02-b0d0-0427d624283e"
      },
      "outputs": [
        {
          "name": "stdout",
          "output_type": "stream",
          "text": [
            "+------------------+----------+--------------------+\n",
            "|        prediction|       bmd|          Myfeatures|\n",
            "+------------------+----------+--------------------+\n",
            "|0.9144599739579358|    1.0502|[39.25494707,1.0,...|\n",
            "|0.7890104586932023|    0.7076|[41.35119985,1.0,...|\n",
            "|0.9155609897912849|    1.0003|[41.41761507,1.0,...|\n",
            "| 0.801479204672471|0.88880002|[42.81703317,0.0,...|\n",
            "|0.9072323257705502|    0.9824|[44.23967859,1.0,...|\n",
            "|0.9047191432818517|    0.9716|[48.28948823,1.0,...|\n",
            "|0.7362409919811056|    0.6904|[48.52365084,0.0,...|\n",
            "|1.0133831278058718|0.89950001|[48.81687141,1.0,...|\n",
            "|0.7147480951281903|0.73989999|[50.27605888,0.0,...|\n",
            "|0.7827430938854405|    0.6904|[51.04837034,0.0,...|\n",
            "+------------------+----------+--------------------+\n",
            "only showing top 10 rows\n",
            "\n"
          ]
        }
      ],
      "source": [
        "predictions = linear_model.transform(test_df)\n",
        "predictions.select(\"prediction\",\"bmd\",\"Myfeatures\").show(10)"
      ]
    },
    {
      "cell_type": "code",
      "execution_count": null,
      "metadata": {
        "colab": {
          "base_uri": "https://localhost:8080/"
        },
        "id": "wtjQBqqFqZD9",
        "outputId": "478fc281-91a3-4e60-ed82-7b7be1061ce2"
      },
      "outputs": [
        {
          "name": "stdout",
          "output_type": "stream",
          "text": [
            "+---+---+----------+---+\n",
            "|age|sex|medication|bmi|\n",
            "+---+---+----------+---+\n",
            "| 56|  0|         3| 26|\n",
            "+---+---+----------+---+\n",
            "\n",
            "+-------------------+\n",
            "|         Myfeatures|\n",
            "+-------------------+\n",
            "|[56.0,0.0,3.0,26.0]|\n",
            "+-------------------+\n",
            "\n",
            "+-------------------+------------------+\n",
            "|         Myfeatures|        prediction|\n",
            "+-------------------+------------------+\n",
            "|[56.0,0.0,3.0,26.0]|0.7775889675992322|\n",
            "+-------------------+------------------+\n",
            "\n"
          ]
        }
      ],
      "source": [
        "new_patient = session.sql(\"select 56 as age, 0 as sex, 3 as medication, 26 as bmi\")\n",
        "new_patient.show()\n",
        "new_patient=assembler.transform(new_patient).select('Myfeatures')\n",
        "new_patient.show()\n",
        "predictions = linear_model.transform(new_patient)\n",
        "predictions.select(\"Myfeatures\",\"prediction\").show()"
      ]
    }
  ],
  "metadata": {
    "colab": {
      "provenance": []
    },
    "kernelspec": {
      "display_name": "Python 3",
      "name": "python3"
    },
    "language_info": {
      "name": "python"
    }
  },
  "nbformat": 4,
  "nbformat_minor": 0
}
